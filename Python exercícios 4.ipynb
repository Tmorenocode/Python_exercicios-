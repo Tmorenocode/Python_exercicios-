{
 "cells": [
  {
   "cell_type": "markdown",
   "id": "05d5ae49",
   "metadata": {},
   "source": [
    "# Exercicios Listas"
   ]
  },
  {
   "cell_type": "markdown",
   "id": "df941976",
   "metadata": {},
   "source": [
    "### 1 - Faça um Programa que leia um vetor de 5 números inteiros e mostre-os."
   ]
  },
  {
   "cell_type": "code",
   "execution_count": null,
   "id": "11fcd8fa",
   "metadata": {},
   "outputs": [],
   "source": [
    "vetor = [x for x in range(1,6)]\n",
    "\n",
    "for x in vetor:\n",
    "\n",
    " print(x , end=\" \")\n",
    "\n"
   ]
  },
  {
   "cell_type": "markdown",
   "id": "610c0f3d",
   "metadata": {},
   "source": [
    "### 2 - Faça um Programa que leia um vetor de 10 números reais e mostre-os na ordem inversa."
   ]
  },
  {
   "cell_type": "code",
   "execution_count": null,
   "id": "5cc90599",
   "metadata": {},
   "outputs": [],
   "source": [
    "vetor = [x for x in range(1,11)]\n",
    "vetor.reverse()\n",
    "\n",
    "for x in vetor:\n",
    "\n",
    " print(x , end = \" \")"
   ]
  },
  {
   "cell_type": "markdown",
   "id": "1d5cecc7",
   "metadata": {},
   "source": [
    "### 3 - Faça um Programa que leia 4 notas, mostre as notas e a média na tela."
   ]
  },
  {
   "cell_type": "code",
   "execution_count": null,
   "id": "c6f9ab6e",
   "metadata": {},
   "outputs": [],
   "source": [
    "notas = []\n",
    "media = 0\n",
    "\n",
    "print(\"Informe as 4 notas\")\n",
    "for i in range(4):\n",
    "    notas.append(int(input(\"Nota\" + str(i + 1) + \":\\n\")))\n",
    "    media += notas[i]\n",
    "media = media/4\n",
    "print(notas)\n",
    "print(media)"
   ]
  },
  {
   "cell_type": "markdown",
   "id": "ac0b2137",
   "metadata": {},
   "source": [
    "### 4 - Faça um Programa que leia um vetor de 10 caracteres, e diga quantas consoantes foram lidas. Imprima as consoantes."
   ]
  },
  {
   "cell_type": "code",
   "execution_count": null,
   "id": "bad99993",
   "metadata": {},
   "outputs": [],
   "source": [
    "palavra = []\n",
    "consoantes = 0\n",
    "print(\"Informe os caracteres: \")\n",
    "for i in range(10):\n",
    "    palavra.append((input(\"caracter \" + str(i + 1) + \":\\n\")))\n",
    "    char = palavra[i]\n",
    "    if (char not in (\"a\" , \"e\" , \"i\" , \"o\" , \"u\")):\n",
    "        consoantes += 1\n",
    "print(consoantes)"
   ]
  },
  {
   "cell_type": "markdown",
   "id": "f52daa7a",
   "metadata": {},
   "source": [
    "### 5 - Faça um Programa que leia 20 números inteiros e armazene-os num vetor. Armazene os números pares no vetor PAR e os números IMPARES no vetor impar. Imprima os três vetores."
   ]
  },
  {
   "cell_type": "code",
   "execution_count": null,
   "id": "fa3a462d",
   "metadata": {},
   "outputs": [],
   "source": [
    "lista = []\n",
    "listapar = []\n",
    "listaimpar = []\n",
    "numero = 0\n",
    "print(\"informe os números\")\n",
    "for i in range(20):\n",
    "    lista.append(int(input(\"caracter \" + str(i + 1) + \":\\n\")))\n",
    "    numero = lista[i]\n",
    "    print(numero)\n",
    "    if(numero%2 == 0):\n",
    "        listapar.append(numero)\n",
    "    else:\n",
    "        listaimpar.append(numero)\n",
    "        \n",
    "print(lista)\n",
    "print(listapar)\n",
    "print(listaimpar)"
   ]
  },
  {
   "cell_type": "markdown",
   "id": "560f8889",
   "metadata": {},
   "source": [
    "### 6 - Faça um Programa que peça as quatro notas de 10 alunos, calcule e armazene num vetor a média de cada aluno, imprima o número de alunos com média maior ou igual a 7.0."
   ]
  },
  {
   "cell_type": "code",
   "execution_count": null,
   "id": "f0450556",
   "metadata": {},
   "outputs": [],
   "source": [
    "listanotas = []\n",
    "notasaluno = []\n",
    "print(\"notas dos alunos\")\n",
    "for i in range(10):\n",
    "    media = 0\n",
    "    listanotas = []\n",
    "    print(\"aluno: \" + str(i + 1))\n",
    "    for j in range(4):\n",
    "        notasaluno.append(float(input(\"nota: \" + str(i+1) + \":\\n\")))\n",
    "        media += notasaluno[j]\n",
    "        print(media)\n",
    "    media = media / 4\n",
    "    listanotas.append(media)"
   ]
  },
  {
   "cell_type": "markdown",
   "id": "9cb4eb0b",
   "metadata": {},
   "source": [
    "### 7 - Faça um Programa que leia um vetor de 5 números inteiros, mostre a soma, a multiplicação e os números."
   ]
  },
  {
   "cell_type": "code",
   "execution_count": null,
   "id": "7bb18c1b",
   "metadata": {},
   "outputs": [],
   "source": [
    "numeros = []\n",
    "soma = 0\n",
    "multi = 1\n",
    "print(\"Digite os números\")\n",
    "for i in range(5):\n",
    "    numeros.append(int(input(\"Numero: \" + str(i+1) + \":\\n\")))\n",
    "    soma = soma + numeros[i]\n",
    "    multi = multi * numeros[i]\n",
    "print(numeros)\n",
    "print(soma)\n",
    "print(multi)"
   ]
  },
  {
   "cell_type": "markdown",
   "id": "acbff557",
   "metadata": {},
   "source": [
    "### 8 - Faça um Programa que peça a idade e a altura de 5 pessoas, armazene cada informação no seu respectivo vetor. Imprima a idade e a altura na ordem inversa a ordem lida."
   ]
  },
  {
   "cell_type": "code",
   "execution_count": null,
   "id": "70b889e5",
   "metadata": {},
   "outputs": [],
   "source": [
    "idade = []\n",
    "altura = []\n",
    "print(\"Digite a idade e depois a altura\")\n",
    "for i in range(5):\n",
    "    idade.append(int(input(\"idade: \" + str(i+1) + \":\\n\")))\n",
    "    altura.append(float(input(\"Altura: \" + str(i+1) + \":\\n\")))\n",
    "#for j in range(5):\n",
    "idade.reverse()\n",
    "altura.reverse()\n",
    "print(idade)\n",
    "print(altura)"
   ]
  },
  {
   "cell_type": "markdown",
   "id": "a60fec15",
   "metadata": {},
   "source": [
    "### 9 - Faça um Programa que leia um vetor A com 10 números inteiros, calcule e mostre a soma dos quadrados dos elementos do vetor."
   ]
  },
  {
   "cell_type": "code",
   "execution_count": null,
   "id": "6aa3d6f8",
   "metadata": {},
   "outputs": [],
   "source": [
    "soma_quadrado = []\n",
    "quadrado_soma = 0\n",
    "for i in range(10):\n",
    "    soma_quadrado.append(float(input(\"soma dos quadrados: \" + str(i+1) + \":\\n\")))\n",
    "    quadrado_soma = soma_quadrado[i] ** 2\n",
    "print(quadrado_soma)"
   ]
  },
  {
   "cell_type": "markdown",
   "id": "5b39889c",
   "metadata": {},
   "source": [
    "### 10 - Faça um Programa que leia dois vetores com 10 elementos cada. Gere um terceiro vetor de 20 elementos, cujos valores deverão ser compostos pelos elementos intercalados dos dois outros vetores."
   ]
  },
  {
   "cell_type": "code",
   "execution_count": null,
   "id": "ed9785f4",
   "metadata": {},
   "outputs": [],
   "source": [
    "lista1 = []\n",
    "lista2 = []\n",
    "lista3 = []\n",
    "\n",
    "for i in range(10):\n",
    "    lista1.append(int(input(\"numero: \" + str(i+1) + \":\\n\")))\n",
    "\n",
    "for j in range(10):\n",
    "    lista2.append(int(input(\"numero: \" + str(i+1) + \":\\n\")))\n",
    "\n",
    "lista3.extend(lista1 + lista2)\n",
    "\n",
    "print(lista1)\n",
    "print(lista2)\n",
    "print(lista3)"
   ]
  },
  {
   "cell_type": "markdown",
   "id": "ee42c98e",
   "metadata": {},
   "source": [
    "### 11 - Altere o programa anterior, intercalando 3 vetores de 10 elementos cada."
   ]
  },
  {
   "cell_type": "code",
   "execution_count": null,
   "id": "72cdc939",
   "metadata": {},
   "outputs": [],
   "source": [
    "lista1 = []\n",
    "lista2 = []\n",
    "lista3 = []\n",
    "\n",
    "for i in range(10):\n",
    "    lista1.append(int(input(\"numero: \" + str(i+1) + \":\\n\")))\n",
    "\n",
    "for j in range(10):\n",
    "    lista2.append(int(input(\"numero: \" + str(i+1) + \":\\n\")))\n",
    "\n",
    "for m in range(10):\n",
    "    lista3.append(int(input(\"numero: \" + str(i+1) + \":\\n\")))\n",
    "\n",
    "print(lista1)\n",
    "print(lista2)\n",
    "print(lista3)"
   ]
  },
  {
   "cell_type": "markdown",
   "id": "f190078a",
   "metadata": {},
   "source": [
    "### 12 - Foram anotadas as idades e alturas de 30 alunos. Faça um Programa que determine quantos alunos com mais de 13 anos possuem altura inferior à média de altura desses alunos."
   ]
  },
  {
   "cell_type": "code",
   "execution_count": null,
   "id": "046a4d28",
   "metadata": {},
   "outputs": [],
   "source": [
    "idade = []\n",
    "altura = []\n",
    "quantidade13 = 0\n",
    "print(\"Digite a idade e altura de cada aluno\")\n",
    "\n",
    "for i in range(30):\n",
    "    idade.append(int(input(\"Idade: \" + str(i + 1) + \":\\n\")))\n",
    "    altura.append(float(input(\"altura: \" + str(i + 1) + \":\\n\")))\n",
    "\n",
    "alturamedia = sum(altura) / len(altura)    \n",
    "\n",
    "if idade[i] > 13 and altura[i] < alturamedia:\n",
    "    quantidade13 += 1\n",
    "\n",
    "print(str(quantidade13) + \" Alunos com mais de 13 anos e altura inferior a media de altura\")"
   ]
  },
  {
   "cell_type": "markdown",
   "id": "5ee4b561",
   "metadata": {},
   "source": [
    "### 13 - Faça um programa que receba a temperatura média de cada mês do ano e armazene-as em uma lista. Após isto, calcule a média anual das temperaturas e mostre todas as temperaturas acima da média anual, e em que mês elas ocorreram (mostrar o mês por extenso: 1 – Janeiro, 2 – Fevereiro, . . . )."
   ]
  },
  {
   "cell_type": "code",
   "execution_count": null,
   "id": "7dd96e3b",
   "metadata": {},
   "outputs": [],
   "source": [
    "temperatura = []\n",
    "\n",
    "meses = ['Janeiro','Fevereiro','Março','Abril', 'Maio', 'Junho', 'Julho', 'Agosto', 'Setembro', 'Outubro', 'Novembro', 'Dezembro']\n",
    "\n",
    "media = 0\n",
    "\n",
    "mediaacima = {}\n",
    "\n",
    "for i in range(len(meses)):\n",
    "    temperatura.append(float(input(\"informe a temperatura media de: \" + meses[i] + \":\\n\")))\n",
    "    media += temperatura[i]\n",
    "media = media / len(meses)\n",
    "\n",
    "for i in range(len(meses)):\n",
    "    if(temperatura[i] > media):\n",
    "        mediaacima.update({meses[i] : temperatura[i]})\n",
    "\n",
    "\n",
    "print('Media das temperaturas : Anual -> ' + str(media))\n",
    "print('Meses com temperaturas acima da media: ' + str(mediaacima))"
   ]
  }
 ],
 "metadata": {
  "kernelspec": {
   "display_name": "Python 3",
   "language": "python",
   "name": "python3"
  },
  "language_info": {
   "codemirror_mode": {
    "name": "ipython",
    "version": 3
   },
   "file_extension": ".py",
   "mimetype": "text/x-python",
   "name": "python",
   "nbconvert_exporter": "python",
   "pygments_lexer": "ipython3",
   "version": "3.8.8"
  }
 },
 "nbformat": 4,
 "nbformat_minor": 5
}
