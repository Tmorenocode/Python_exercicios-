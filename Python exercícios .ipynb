{
 "cells": [
  {
   "cell_type": "markdown",
   "id": "a343c667",
   "metadata": {},
   "source": [
    "# Estrutura sequencial"
   ]
  },
  {
   "cell_type": "markdown",
   "id": "7699a790",
   "metadata": {},
   "source": [
    "### 1 - Faça um Programa que mostre a mensagem \"Alo mundo\" na tela."
   ]
  },
  {
   "cell_type": "code",
   "execution_count": 1,
   "id": "a338f99b",
   "metadata": {},
   "outputs": [
    {
     "name": "stdout",
     "output_type": "stream",
     "text": [
      "Alo mundo\n"
     ]
    }
   ],
   "source": [
    "print(\"Alo mundo\")"
   ]
  },
  {
   "cell_type": "markdown",
   "id": "d03ee5ef",
   "metadata": {},
   "source": [
    "### 2 - Faça um Programa que peça um número e então mostre a mensagem O número informado foi [número]."
   ]
  },
  {
   "cell_type": "code",
   "execution_count": 3,
   "id": "9037165e",
   "metadata": {},
   "outputs": [
    {
     "name": "stdout",
     "output_type": "stream",
     "text": [
      "Digite um número: 10\n",
      "O número informado foi 10\n"
     ]
    }
   ],
   "source": [
    "num = input(\"Digite um número: \")\n",
    "\n",
    "print(\"O número informado foi {}\".format(num))"
   ]
  },
  {
   "cell_type": "markdown",
   "id": "7a106f76",
   "metadata": {},
   "source": [
    "### 3 - Faça um Programa que peça dois números e imprima a soma."
   ]
  },
  {
   "cell_type": "code",
   "execution_count": 4,
   "id": "4a509fd5",
   "metadata": {},
   "outputs": [
    {
     "name": "stdout",
     "output_type": "stream",
     "text": [
      "Digite o 1° numero a ser somado: 10\n",
      "Digite o 2° número a ser somado: 10\n",
      "O resultado da soma dos dois números é de: 20\n"
     ]
    }
   ],
   "source": [
    "num1 = int(input(\"Digite o 1° numero a ser somado: \"))\n",
    "num2 = int(input(\"Digite o 2° número a ser somado: \"))\n",
    "\n",
    "print(\"O resultado da soma dos dois números é de:\" , num1 + num2)"
   ]
  },
  {
   "cell_type": "markdown",
   "id": "d91ed613",
   "metadata": {},
   "source": [
    "### 4 - Faça um Programa que peça as 4 notas bimestrais e mostre a média."
   ]
  },
  {
   "cell_type": "code",
   "execution_count": 6,
   "id": "8cf7546a",
   "metadata": {},
   "outputs": [
    {
     "name": "stdout",
     "output_type": "stream",
     "text": [
      "Digite a nota do 1° bimestre: 10\n",
      "Digite a nota do 2° bimestre: 5\n",
      "Digite a nota do 3° bimestre: 7\n",
      "Digite a nota do 4° bimestre: 8\n",
      "Sua média é de: 7.5\n"
     ]
    }
   ],
   "source": [
    "bim1 = int(input(\"Digite a nota do 1° bimestre: \"))\n",
    "bim2 = int(input(\"Digite a nota do 2° bimestre: \"))\n",
    "bim3 = int(input(\"Digite a nota do 3° bimestre: \"))\n",
    "bim4 = int(input(\"Digite a nota do 4° bimestre: \"))\n",
    "\n",
    "media = (bim1 + bim2 + bim3 + bim4) / 4\n",
    "\n",
    "print(\"Sua média é de: {}\".format(media))"
   ]
  },
  {
   "cell_type": "markdown",
   "id": "f1c9d6d6",
   "metadata": {},
   "source": [
    "### 5 - Faça um Programa que converta metros para centímetros."
   ]
  },
  {
   "cell_type": "code",
   "execution_count": 12,
   "id": "0f1b9eeb",
   "metadata": {},
   "outputs": [
    {
     "name": "stdout",
     "output_type": "stream",
     "text": [
      "Digite quantos metros você deseja converter em centímetros: 15\n",
      "1500 centímetros\n"
     ]
    }
   ],
   "source": [
    "metro = int(input(\"Digite quantos metros você deseja converter em centímetros: \"))\n",
    "\n",
    "centimetro = 100 * metro\n",
    "\n",
    "print(\"{} centímetros\".format(centimetro))"
   ]
  },
  {
   "cell_type": "markdown",
   "id": "7d6238ee",
   "metadata": {},
   "source": [
    "### 6 - Faça um Programa que peça o raio de um círculo, calcule e mostre sua área."
   ]
  },
  {
   "cell_type": "code",
   "execution_count": 1,
   "id": "d19126ba",
   "metadata": {},
   "outputs": [
    {
     "name": "stdout",
     "output_type": "stream",
     "text": [
      "Digite o raio: 10\n",
      "sua área é de: 314.0\n"
     ]
    }
   ],
   "source": [
    "raio = int(input(\"Digite o raio: \"))\n",
    "pi = 3.14\n",
    "\n",
    "#área é o valor de pi multiplicado pelo raio ao quadrado\n",
    "area = pi * (raio * raio)\n",
    "\n",
    "print(f\"sua área é de: {area}\")"
   ]
  },
  {
   "cell_type": "markdown",
   "id": "078ab554",
   "metadata": {},
   "source": [
    "### 7 - Faça um Programa que calcule a área de um quadrado, em seguida mostre o dobro desta área para o usuário."
   ]
  },
  {
   "cell_type": "code",
   "execution_count": 4,
   "id": "9698507f",
   "metadata": {},
   "outputs": [
    {
     "name": "stdout",
     "output_type": "stream",
     "text": [
      "Digite o valor de cada lado do seu quadrado: 4\n",
      "A área do seu quadrado é de: 16\n",
      "O dobro da área do seu quadrado é 32\n"
     ]
    }
   ],
   "source": [
    "#Para achar a área do quadrado precisa de um lado\n",
    "lado = int(input(\"Digite o valor de cada lado do seu quadrado: \"))\n",
    "\n",
    "#Para calcular a área do quadrado precisa multiplicar o lado por ele mesmo\n",
    "area = lado * lado\n",
    "\n",
    "dobro_area = area * 2\n",
    "\n",
    "print(\"A área do seu quadrado é de: {}\\nO dobro da área do seu quadrado é {}\".format(area , dobro_area))"
   ]
  },
  {
   "cell_type": "markdown",
   "id": "932086a8",
   "metadata": {},
   "source": [
    "### 8 - Faça um Programa que pergunte quanto você ganha por hora e o número de horas trabalhadas no mês. Calcule e mostre o total \n"
   ]
  },
  {
   "cell_type": "code",
   "execution_count": 5,
   "id": "3f59b36b",
   "metadata": {},
   "outputs": [
    {
     "name": "stdout",
     "output_type": "stream",
     "text": [
      "Digite quanto você ganha por hora: 8\n",
      "Digite quantas horas você trabalhou nesse mês: 200\n",
      "Seu salário esse mês foi de: 1600.0\n"
     ]
    }
   ],
   "source": [
    "dinheiro_hora = float(input(\"Digite quanto você ganha por hora: \"))\n",
    "\n",
    "\n",
    "hora_mes = int(input(\"Digite quantas horas você trabalhou nesse mês: \"))\n",
    "\n",
    "salario = dinheiro_hora * hora_mes\n",
    "\n",
    "print(\"Seu salário esse mês foi de: {}\".format(salario))"
   ]
  },
  {
   "cell_type": "markdown",
   "id": "968f0852",
   "metadata": {},
   "source": [
    "### 9 - Faça um Programa que peça a temperatura em graus Fahrenheit, transforme e mostre a temperatura em graus Celsius."
   ]
  },
  {
   "cell_type": "code",
   "execution_count": 8,
   "id": "51759911",
   "metadata": {},
   "outputs": [
    {
     "name": "stdout",
     "output_type": "stream",
     "text": [
      "Digite quantos graus Fahrenheit está fazendo: 68\n",
      "Está fazendo 20.0° graus Celsius\n"
     ]
    }
   ],
   "source": [
    "graus_fah = int(input(\"Digite quantos graus Fahrenheit está fazendo: \"))\n",
    "\n",
    "graus_celsius = (graus_fah - 32) / 9 * 5\n",
    "\n",
    "print(f\"Está fazendo {graus_celsius}° graus Celsius\")"
   ]
  },
  {
   "cell_type": "markdown",
   "id": "6f91bfe1",
   "metadata": {},
   "source": [
    "### 10 - Faça um Programa que peça a temperatura em graus Celsius, transforme e mostre em graus Fahrenheit"
   ]
  },
  {
   "cell_type": "code",
   "execution_count": 11,
   "id": "1c893b29",
   "metadata": {},
   "outputs": [
    {
     "name": "stdout",
     "output_type": "stream",
     "text": [
      "Digite quantos graus Celsius está fazendo: 20\n",
      "Está fazendo 68.0° graus Fahrenheit\n"
     ]
    }
   ],
   "source": [
    "graus_celsius = int(input(\"Digite quantos graus Celsius está fazendo: \"))\n",
    "\n",
    "graus_fah = (graus_celsius / 5) * 9 + 32\n",
    "\n",
    "print(f\"Está fazendo {graus_fah}° graus Fahrenheit\")"
   ]
  },
  {
   "cell_type": "markdown",
   "id": "3dea2108",
   "metadata": {},
   "source": [
    "### 11 - Faça um Programa que peça 2 números inteiros e um número real. Calcule e mostre:\n",
    "#### A - o produto do dobro do primeiro com metade do segundo .\n",
    "#### B - a soma do triplo do primeiro com o terceiro.\n",
    "#### C - o terceiro elevado ao cubo."
   ]
  },
  {
   "cell_type": "code",
   "execution_count": 17,
   "id": "59bd6d7f",
   "metadata": {},
   "outputs": [
    {
     "name": "stdout",
     "output_type": "stream",
     "text": [
      "Digite um número inteiro: 20\n",
      "Digite outro número inteiro: 10\n",
      "Digite um número real: 2\n",
      "Resultado da questão A: 45.0\n",
      "Outro possível resultado da questão A: 200.0\n",
      "Resultado da questão B: 62.0\n",
      "Resultado da questão C: 8.0\n"
     ]
    }
   ],
   "source": [
    "int1 = int(input(\"Digite um número inteiro: \"))\n",
    "int2 = int(input(\"Digite outro número inteiro: \"))\n",
    "real = float(input(\"Digite um número real: \"))\n",
    "\n",
    "A = (int1 * 2) + (int2 / 2)\n",
    "print(\"Resultado da questão A: {}\".format(A))\n",
    "#maneira alternativa de entender o que A pede caso seja multiplação\n",
    "A = (int1 * 2) * (int2 / 2)\n",
    "print(\"Outro possível resultado da questão A: {}\".format(A))\n",
    "\n",
    "B = (int1 * 3) + real\n",
    "print(\"Resultado da questão B: {}\".format(B))\n",
    "\n",
    "C = real * real * real\n",
    "print(\"Resultado da questão C: {}\".format(C))"
   ]
  },
  {
   "cell_type": "markdown",
   "id": "77d7ee00",
   "metadata": {},
   "source": [
    "### 12 - Tendo como dados de entrada a altura de uma pessoa, construa um algoritmo que calcule seu peso ideal, usando a seguinte fórmula: (72.7*altura) - 58"
   ]
  },
  {
   "cell_type": "code",
   "execution_count": 22,
   "id": "f1732480",
   "metadata": {},
   "outputs": [
    {
     "name": "stdout",
     "output_type": "stream",
     "text": [
      "Digite sua altura: 1.60\n",
      "Seu peso ideal é de: 58.32\n"
     ]
    }
   ],
   "source": [
    "altura = float(input(\"Digite sua altura: \"))\n",
    "\n",
    "peso_ideal = (72.7 * altura) - 58\n",
    "\n",
    "print(\"Seu peso ideal é de: {:.2f}\".format(peso_ideal))"
   ]
  },
  {
   "cell_type": "markdown",
   "id": "fef82590",
   "metadata": {},
   "source": [
    "### 13 - Tendo como dado de entrada a altura (h) de uma pessoa, construa um algoritmo que calcule seu peso ideal, utilizando as seguintes fórmulas:\n",
    "#### Para homens: (72.7*h) - 58\n",
    "#### Para mulheres: (62.1*h) - 44.7"
   ]
  },
  {
   "cell_type": "code",
   "execution_count": 23,
   "id": "8bb9c718",
   "metadata": {},
   "outputs": [
    {
     "name": "stdout",
     "output_type": "stream",
     "text": [
      "Digite sua altura: 1.60\n",
      "Pela sua altura de: 1.60\n",
      "Se for homem seu peso ideal é de: 58.32\n",
      "Se for mulher seu peso ideal é de: 54.66\n"
     ]
    }
   ],
   "source": [
    "h = float(input(\"Digite sua altura: \"))\n",
    "\n",
    "homem_peso = (72.7*h) - 58\n",
    "\n",
    "mulher_peso = (62.1*h) - 44.7\n",
    "\n",
    "print(\"Pela sua altura de: {:.2f}\\nSe for homem seu peso ideal é de: {:.2f}\\nSe for mulher seu peso ideal é de: {:.2f}\".format(h , homem_peso , mulher_peso))"
   ]
  },
  {
   "cell_type": "markdown",
   "id": "07cee410",
   "metadata": {},
   "source": [
    "### 14 - João Papo-de-Pescador, homem de bem, comprou um microcomputador para controlar o rendimento diário de seu trabalho. Toda vez que ele traz um peso de peixes maior que o estabelecido pelo regulamento de pesca do estado de São Paulo (50 quilos) deve pagar uma multa de 4,00 reais por quilo excedente. João precisa que você faça um programa que leia a variável peso (peso de peixes) e calcule o excesso. Gravar na variável excesso a quantidade de quilos além do limite e na variável multa o valor da multa que João deverá pagar. Imprima os dados do programa com as mensagens adequadas."
   ]
  },
  {
   "cell_type": "code",
   "execution_count": 30,
   "id": "778e3c24",
   "metadata": {},
   "outputs": [
    {
     "name": "stdout",
     "output_type": "stream",
     "text": [
      "Olá seu joão, digite quantos quilos de peixe trouxe hoje: 60\n",
      "Seu joão, você trouxe 60.0 quilos de peixe, com 10.0 quilo de excesso, portanto vai ter que pagar uma multa no valor de R$40.0\n"
     ]
    }
   ],
   "source": [
    "peso = float(input(\"Olá seu joão, digite quantos quilos de peixe trouxe hoje: \"))\n",
    "\n",
    "\n",
    "if peso > 50:\n",
    "    excesso = peso - 50\n",
    "    multa   = excesso * 4\n",
    "    print(\"Seu joão, você trouxe {} quilos de peixe, com {} quilo de excesso, portanto vai ter que pagar uma multa no valor de R${}\".format(peso , excesso , multa))\n",
    "else:\n",
    "    excesso = \"Zero\"\n",
    "    multa = \"Zero\"\n",
    "    print(\"Seu joão, você trouxe {} quilos de peixe, sem exceder o limite estabelecido, portanto não pagara nenhuma multa\".format(peso))"
   ]
  },
  {
   "cell_type": "markdown",
   "id": "8dd7cdc3",
   "metadata": {},
   "source": [
    "### Faça um Programa que pergunte quanto você ganha por hora e o número de horas trabalhadas no mês. Calcule e mostre o total do seu salário no referido mês, sabendo-se que são descontados 11% para o Imposto de Renda, 8% para o INSS e 5% para o sindicato, faça um programa que nos dê:\n",
    "#### salário bruto.\n",
    "#### quanto pagou ao INSS.\n",
    "#### quanto pagou ao sindicato.\n",
    "#### o salário líquido.\n",
    "#### calcule os descontos e o salário líquido"
   ]
  },
  {
   "cell_type": "code",
   "execution_count": 10,
   "id": "16c4160c",
   "metadata": {},
   "outputs": [
    {
     "name": "stdout",
     "output_type": "stream",
     "text": [
      "Digite quanto ganha por hora: 8.99\n",
      "Digite quantas horas ao mes você trabalha: 200\n",
      "Seu salário bruto é no valor de: R$1798.0\n",
      "Você pagou ao INSS o valor de: R$143.84\n",
      "Você pagou ao sindicato o valor de: R$89.9\n",
      "Seu salário liquido é no valor de: R$1366.48\n",
      "Incluindo todos os seus descontos, você pagou o valor de: R$431.52 Ficando com o salário liquido no valor de: R$1366.48\n"
     ]
    }
   ],
   "source": [
    "dinheiro_hora = float(input(\"Digite quanto ganha por hora: \"))\n",
    "\n",
    "hora_mes = int(input(\"Digite quantas horas ao mes você trabalha: \"))\n",
    "\n",
    "salario_bruto = dinheiro_hora * hora_mes\n",
    "\n",
    "imposto_renda = salario_bruto * 0.11\n",
    "\n",
    "inss = salario_bruto *0.08\n",
    "\n",
    "sindicato = salario_bruto * 0.05\n",
    "\n",
    "salario_liquido = salario_bruto - (imposto_renda + inss + sindicato)\n",
    "\n",
    "print(\"Seu salário bruto é no valor de: R${}\".format(salario_bruto))\n",
    "print(\"Você pagou ao INSS o valor de: R${}\".format(inss))\n",
    "print(\"Você pagou ao sindicato o valor de: R${}\".format(sindicato))\n",
    "print(\"Seu salário liquido é no valor de: R${}\".format(salario_liquido))\n",
    "print(\"Incluindo todos os seus descontos, você pagou o valor de: R${} Ficando com o salário liquido no valor de: R${}\".format(imposto_renda + inss + sindicato , salario_liquido))"
   ]
  },
  {
   "cell_type": "markdown",
   "id": "016f9703",
   "metadata": {},
   "source": [
    "### 16 - Faça um programa para uma loja de tintas. O programa deverá pedir o tamanho em metros quadrados da área a ser pintada. Considere que a cobertura da tinta é de 1 litro para cada 3 metros quadrados e que a tinta é vendida em latas de 18 litros, que custam 80,00 reais. Informe ao usuário a quantidades de latas de tinta a serem compradas e o preço total."
   ]
  },
  {
   "cell_type": "code",
   "execution_count": 28,
   "id": "1893e7de",
   "metadata": {},
   "outputs": [
    {
     "name": "stdout",
     "output_type": "stream",
     "text": [
      "Digite quantos metros quadrados vai pintar: 900\n",
      "Você vai precisar de 17 latas e vai ter de pagar R$1360\n"
     ]
    }
   ],
   "source": [
    "metro = int(input('Digite quantos metros quadrados vai pintar: '))\n",
    "litro = metro / 3\n",
    "\n",
    "if metro == 0:\n",
    "    latas = metro / 54\n",
    "    print(\"Você não vai precisar pintar e nem gastar\")\n",
    "else: \n",
    "    latas = int(metro / 54) + 1\n",
    "    preco = latas * 80\n",
    "    print(\"Você vai precisar de {} latas e vai ter de pagar R${}\".format(latas , preco))\n",
    "\n"
   ]
  }
 ],
 "metadata": {
  "kernelspec": {
   "display_name": "Python 3",
   "language": "python",
   "name": "python3"
  },
  "language_info": {
   "codemirror_mode": {
    "name": "ipython",
    "version": 3
   },
   "file_extension": ".py",
   "mimetype": "text/x-python",
   "name": "python",
   "nbconvert_exporter": "python",
   "pygments_lexer": "ipython3",
   "version": "3.8.8"
  }
 },
 "nbformat": 4,
 "nbformat_minor": 5
}
