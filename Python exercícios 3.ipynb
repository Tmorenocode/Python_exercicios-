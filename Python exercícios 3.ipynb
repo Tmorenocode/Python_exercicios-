{
 "cells": [
  {
   "cell_type": "markdown",
   "id": "1982a66b",
   "metadata": {},
   "source": [
    "# Estrutura De Repeticao"
   ]
  },
  {
   "cell_type": "markdown",
   "id": "a9aebfbc",
   "metadata": {},
   "source": [
    "### 1 - Faça um programa que peça uma nota, entre zero e dez. Mostre uma mensagem caso o valor seja inválido e continue pedindo até que o usuário informe um valor válido."
   ]
  },
  {
   "cell_type": "code",
   "execution_count": 1,
   "id": "2bce11e3",
   "metadata": {},
   "outputs": [
    {
     "name": "stdout",
     "output_type": "stream",
     "text": [
      "Digite uma nota entre 0 e 10: 11\n",
      "Valor inválido, tente novamente\n",
      "Digite uma nota entre 0 e 10: 5\n",
      "5\n"
     ]
    }
   ],
   "source": [
    "num = int(input(\"Digite uma nota entre 0 e 10: \"))\n",
    "\n",
    "while num > 10 or num < 0: \n",
    "    \n",
    "    print(\"Valor inválido, tente novamente\")\n",
    "    num = int(input(\"Digite uma nota entre 0 e 10: \"))\n",
    "else:\n",
    "   \n",
    "    print(num)\n",
    "       "
   ]
  },
  {
   "cell_type": "markdown",
   "id": "85fb1ec1",
   "metadata": {},
   "source": [
    "### 2 - Faça um programa que leia um nome de usuário e a sua senha e não aceite a senha igual ao nome do usuário, mostrando uma mensagem de erro e voltando a pedir as informações.\n",
    "       "
   ]
  },
  {
   "cell_type": "code",
   "execution_count": 2,
   "id": "819e8ef5",
   "metadata": {},
   "outputs": [
    {
     "name": "stdout",
     "output_type": "stream",
     "text": [
      "Digite seu usuário: username\n",
      "Digte sua senha: username\n",
      "Tente novamente. Sua senha é igual ao usuário\n",
      "Digte sua senha: username1\n",
      "logado\n"
     ]
    }
   ],
   "source": [
    "user = input(\"Digite seu usuário: \")\n",
    "sen = input(\"Digte sua senha: \")\n",
    "\n",
    "while sen == user:\n",
    "    print(\"Tente novamente. Sua senha é igual ao usuário\")\n",
    "    sen = input(\"Digte sua senha: \")\n",
    "else:\n",
    "    print(\"logado\")"
   ]
  },
  {
   "cell_type": "markdown",
   "id": "9efe60a6",
   "metadata": {},
   "source": [
    "### 3 - Faça um programa que leia e valide as seguintes informações:\n",
    "#### Nome: maior que 3 caracteres;\n",
    "#### Idade: entre 0 e 150;\n",
    "#### Salário: maior que zero;\n",
    "#### Sexo: 'f' ou 'm';\n",
    "#### Estado Civil: 's', 'c', 'v', 'd';"
   ]
  },
  {
   "cell_type": "code",
   "execution_count": 3,
   "id": "bed71abd",
   "metadata": {},
   "outputs": [
    {
     "name": "stdout",
     "output_type": "stream",
     "text": [
      "Digite seu nome: tm\n",
      "nome inválido, tente novamente\n",
      "Digite seu nome: tmoreno\n",
      "Digite sua idade: 155\n",
      "Idade inválida, tente novamente\n",
      "Digite sua idade: 19\n",
      "Digite seu salário: 0\n",
      "Salário inválido, tente novamente\n",
      "Digite seu salário: 1900\n",
      "Digite a letra inicial do seu sexo: h\n",
      "Sexo inválido, tente novamente\n",
      "Digite a letra inicial do seu sexo: m\n",
      "Digite seu estado civil: s\n"
     ]
    }
   ],
   "source": [
    "nome = input(\"Digite seu nome: \")\n",
    "\n",
    "while len(nome) < 3:\n",
    "    print(\"nome inválido, tente novamente\")\n",
    "    nome = input(\"Digite seu nome: \")\n",
    "\n",
    "\n",
    "idade = int(input(\"Digite sua idade: \"))\n",
    "\n",
    "while idade < 0 or idade > 150:\n",
    "    print(\"Idade inválida, tente novamente\")\n",
    "    idade = int(input(\"Digite sua idade: \"))\n",
    "\n",
    "\n",
    "salario = int(input(\"Digite seu salário: \"))\n",
    "\n",
    "while salario <= 0:\n",
    "    print(\"Salário inválido, tente novamente\")\n",
    "    salario = int(input(\"Digite seu salário: \"))\n",
    "    \n",
    "sexo = input(\"Digite a letra inicial do seu sexo: \")\n",
    "\n",
    "while sexo != \"f\" and sexo != \"m\":\n",
    "\n",
    "    print(\"Sexo inválido, tente novamente\")\n",
    "    sexo = input(\"Digite a letra inicial do seu sexo: \")\n",
    "\n",
    "civil = input(\"Digite seu estado civil: \")\n",
    "\n",
    "while civil != \"s\" and civil != \"c\" and civil != \"v\" and civil != \"d\":\n",
    "    print(\"Estado inválido, tente novamente\")\n",
    "    civil = input(\"Digite seu estado civil: \")"
   ]
  },
  {
   "cell_type": "markdown",
   "id": "3465533f",
   "metadata": {},
   "source": [
    "### 4 - Supondo que a população de um país A seja da ordem de 80000 habitantes com uma taxa anual de crescimento de 3% e que a população de B seja 200000 habitantes com uma taxa de crescimento de 1.5%. Faça um programa que calcule e escreva o número de anos necessários para que a população do país A ultrapasse ou iguale a população do país B, mantidas as taxas de crescimento."
   ]
  },
  {
   "cell_type": "code",
   "execution_count": 4,
   "id": "c48e46f1",
   "metadata": {},
   "outputs": [
    {
     "name": "stdout",
     "output_type": "stream",
     "text": [
      "Levou 63 anos para ultrapassar\n"
     ]
    }
   ],
   "source": [
    "a = 80000\n",
    "b = 200000\n",
    "anos = 0\n",
    "ta = 0.03\n",
    "tb = 0.015\n",
    "\n",
    "while a < b:\n",
    "    a = a + (a * ta)\n",
    "    b = b + (b * tb)\n",
    "    anos += 1\n",
    "print(\"Levou {} anos para ultrapassar\".format(anos))"
   ]
  },
  {
   "cell_type": "markdown",
   "id": "f29a1df7",
   "metadata": {},
   "source": [
    "### 5 - Altere o programa anterior permitindo ao usuário informar as populações e as taxas de crescimento iniciais. Valide a entrada e permita repetir a operação."
   ]
  },
  {
   "cell_type": "code",
   "execution_count": 5,
   "id": "d39f930e",
   "metadata": {},
   "outputs": [
    {
     "name": "stdout",
     "output_type": "stream",
     "text": [
      "Digite a população do país A: 15000\n",
      "Digite a população do país B: 2000\n",
      "Digite a taxa de crescimento anual para o país A: 0.5\n",
      "Digite a taxa de crescimento anual para o país B: 0.4\n",
      "Levou 0 anos para ultrapassar\n"
     ]
    }
   ],
   "source": [
    "a = int(input(\"Digite a população do país A: \"))\n",
    "b = int(input(\"Digite a população do país B: \"))\n",
    "anos = 0\n",
    "ta = float(input(\"Digite a taxa de crescimento anual para o país A: \"))\n",
    "tb = float(input(\"Digite a taxa de crescimento anual para o país B: \"))\n",
    "\n",
    "while a < b:\n",
    "    a = a + (a * ta)\n",
    "    b = b + (b * tb)\n",
    "    anos += 1\n",
    "print(\"Levou {} anos para ultrapassar\".format(anos))"
   ]
  },
  {
   "cell_type": "markdown",
   "id": "0587bf4a",
   "metadata": {},
   "source": [
    "### 6 - Faça um programa que imprima na tela os números de 1 a 20, um abaixo do outro. Depois modifique o programa para que ele mostre os números um ao lado do outro."
   ]
  },
  {
   "cell_type": "code",
   "execution_count": 6,
   "id": "35f25312",
   "metadata": {},
   "outputs": [
    {
     "name": "stdout",
     "output_type": "stream",
     "text": [
      "0\n",
      "1\n",
      "2\n",
      "3\n",
      "4\n",
      "5\n",
      "6\n",
      "7\n",
      "8\n",
      "9\n",
      "10\n",
      "11\n",
      "12\n",
      "13\n",
      "14\n",
      "15\n",
      "16\n",
      "17\n",
      "18\n",
      "19\n",
      "20\n",
      "[1, 2, 3, 4, 5, 6, 7, 8, 9, 10, 11, 12, 13, 14, 15, 16, 17, 18, 19, 20]\n"
     ]
    }
   ],
   "source": [
    "for i in range (21):\n",
    "\n",
    "    print (i)\n",
    "\n",
    "print(list(range(1,21)))"
   ]
  },
  {
   "cell_type": "markdown",
   "id": "43753cc2",
   "metadata": {},
   "source": [
    "### 7 - Faça um programa que leia 5 números e informe o maior número."
   ]
  },
  {
   "cell_type": "code",
   "execution_count": 7,
   "id": "de0f946c",
   "metadata": {},
   "outputs": [
    {
     "name": "stdout",
     "output_type": "stream",
     "text": [
      "Digite um número: 5\n",
      "Digite um número: 30\n",
      "Digite um número: 89\n",
      "Digite um número: 100\n",
      "Digite um número: 1\n",
      "100\n"
     ]
    }
   ],
   "source": [
    "maior = -1\n",
    "i = 1 \n",
    "\n",
    "while i <= 5:\n",
    "    numero = int(input(\"Digite um número: \"))\n",
    "    \n",
    "    if numero > maior:\n",
    "        maior = numero\n",
    "    i += 1\n",
    "print(maior)\n",
    "    "
   ]
  },
  {
   "cell_type": "markdown",
   "id": "66ca6765",
   "metadata": {},
   "source": [
    "### 8 - Faça um programa que leia 5 números e informe a soma e a média dos números."
   ]
  },
  {
   "cell_type": "code",
   "execution_count": 8,
   "id": "4509dd9d",
   "metadata": {},
   "outputs": [
    {
     "name": "stdout",
     "output_type": "stream",
     "text": [
      "Digite um número: 10\n",
      "Digite um número: 90\n",
      "Digite um número: 50\n",
      "Digite um número: 2\n",
      "Digite um número: 6\n",
      "31.6\n"
     ]
    }
   ],
   "source": [
    "maior = -1\n",
    "i = 1 \n",
    "soma = 0\n",
    "\n",
    "\n",
    "\n",
    "while i <= 5:\n",
    "   \n",
    "    numero = int(input(\"Digite um número: \"))\n",
    "    soma += numero\n",
    "    i += 1\n",
    "\n",
    "media = soma / 5\n",
    "print(media)"
   ]
  },
  {
   "cell_type": "markdown",
   "id": "66f471f3",
   "metadata": {},
   "source": [
    "### 9 - Faça um programa que imprima na tela apenas os números ímpares entre 1 e 50."
   ]
  },
  {
   "cell_type": "code",
   "execution_count": 9,
   "id": "e4a5f13c",
   "metadata": {},
   "outputs": [
    {
     "name": "stdout",
     "output_type": "stream",
     "text": [
      "1\n",
      "3\n",
      "5\n",
      "7\n",
      "9\n",
      "11\n",
      "13\n",
      "15\n",
      "17\n",
      "19\n",
      "21\n",
      "23\n",
      "25\n",
      "27\n",
      "29\n",
      "31\n",
      "33\n",
      "35\n",
      "37\n",
      "39\n",
      "41\n",
      "43\n",
      "45\n",
      "47\n",
      "49\n"
     ]
    }
   ],
   "source": [
    "for i in range(1 , 51 , 2):\n",
    "    print(i)\n",
    "   "
   ]
  },
  {
   "cell_type": "markdown",
   "id": "8cea4a08",
   "metadata": {},
   "source": [
    "### 10 - Faça um programa que receba dois números inteiros e gere os números inteiros que estão no intervalo compreendido por eles."
   ]
  },
  {
   "cell_type": "code",
   "execution_count": 10,
   "id": "ed786299",
   "metadata": {},
   "outputs": [
    {
     "name": "stdout",
     "output_type": "stream",
     "text": [
      "Digite o número inicial: 5\n",
      "Digite o número final: 15\n",
      "6\n",
      "7\n",
      "8\n",
      "9\n",
      "10\n",
      "11\n",
      "12\n",
      "13\n",
      "14\n"
     ]
    }
   ],
   "source": [
    "inicial = int(input(\"Digite o número inicial: \"))\n",
    "\n",
    "final = int(input(\"Digite o número final: \"))\n",
    "\n",
    "inicial += 1\n",
    "\n",
    "for i in range( inicial , final ):\n",
    "    print(i)\n",
    "   "
   ]
  },
  {
   "cell_type": "markdown",
   "id": "f3326df2",
   "metadata": {},
   "source": [
    "### 11 - Altere o programa anterior para mostrar no final a soma dos números."
   ]
  },
  {
   "cell_type": "code",
   "execution_count": 11,
   "id": "63384b14",
   "metadata": {},
   "outputs": [
    {
     "name": "stdout",
     "output_type": "stream",
     "text": [
      "Digite o número inicial: 10\n",
      "Digite o número final: 25\n",
      "11\n",
      "12\n",
      "13\n",
      "14\n",
      "15\n",
      "16\n",
      "17\n",
      "18\n",
      "19\n",
      "20\n",
      "21\n",
      "22\n",
      "23\n",
      "24\n",
      "245\n"
     ]
    }
   ],
   "source": [
    "inicial = int(input(\"Digite o número inicial: \"))\n",
    "\n",
    "final = int(input(\"Digite o número final: \"))\n",
    "\n",
    "inicial += 1\n",
    "\n",
    "soma = 0\n",
    "\n",
    "for i in range( inicial , final ):\n",
    "    print(i)\n",
    "    soma += i\n",
    "print(soma)"
   ]
  },
  {
   "cell_type": "markdown",
   "id": "91c1924b",
   "metadata": {},
   "source": [
    "### 12 - Desenvolva um gerador de tabuada, capaz de gerar a tabuada de qualquer número inteiro entre 1 a 10. O usuário deve informar de qual numero ele deseja ver a tabuada."
   ]
  },
  {
   "cell_type": "code",
   "execution_count": 12,
   "id": "46265a5c",
   "metadata": {},
   "outputs": [
    {
     "name": "stdout",
     "output_type": "stream",
     "text": [
      "Digite um número: 95\n",
      "95 X 1 = 95\n",
      "95 X 2 = 190\n",
      "95 X 3 = 285\n",
      "95 X 4 = 380\n",
      "95 X 5 = 475\n",
      "95 X 6 = 570\n",
      "95 X 7 = 665\n",
      "95 X 8 = 760\n",
      "95 X 9 = 855\n",
      "95 X 10 = 950\n"
     ]
    }
   ],
   "source": [
    "numero = int(input(\"Digite um número: \"))\n",
    "\n",
    "for i in range(1 ,11):\n",
    "    \n",
    "    resultado = numero * i\n",
    "    print(numero , \"X\" , i , \"=\" , resultado)"
   ]
  }
 ],
 "metadata": {
  "kernelspec": {
   "display_name": "Python 3",
   "language": "python",
   "name": "python3"
  },
  "language_info": {
   "codemirror_mode": {
    "name": "ipython",
    "version": 3
   },
   "file_extension": ".py",
   "mimetype": "text/x-python",
   "name": "python",
   "nbconvert_exporter": "python",
   "pygments_lexer": "ipython3",
   "version": "3.8.8"
  }
 },
 "nbformat": 4,
 "nbformat_minor": 5
}
