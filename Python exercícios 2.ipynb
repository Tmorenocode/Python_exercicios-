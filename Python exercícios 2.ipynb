{
 "cells": [
  {
   "cell_type": "markdown",
   "id": "ef47dbd2",
   "metadata": {},
   "source": [
    "# Estrutura de decisão"
   ]
  },
  {
   "cell_type": "markdown",
   "id": "94e9e7c1",
   "metadata": {},
   "source": [
    "## 1 -  Faça um Programa que peça dois números e imprima o maior deles.\n",
    "\n"
   ]
  },
  {
   "cell_type": "code",
   "execution_count": 4,
   "id": "4cfeae2b",
   "metadata": {},
   "outputs": [
    {
     "name": "stdout",
     "output_type": "stream",
     "text": [
      "Digite um número: 10\n",
      "Digite outro número: 10\n",
      "O maior número digitado foi: 10\n"
     ]
    }
   ],
   "source": [
    "num1 = input(\"Digite um número: \")\n",
    "num2 = input(\"Digite outro número: \")\n",
    "\n",
    "if num1 > num2:\n",
    "    print(\"o maior numero digitado foi: {}\".format(num1))\n",
    "else:\n",
    "    print(\"O maior número digitado foi: {}\".format(num2))"
   ]
  },
  {
   "cell_type": "markdown",
   "id": "c567de19",
   "metadata": {},
   "source": [
    "## 2 - Faça um Programa que peça um valor e mostre na tela se o valor é positivo ou negativo."
   ]
  },
  {
   "cell_type": "code",
   "execution_count": 6,
   "id": "921e9514",
   "metadata": {},
   "outputs": [
    {
     "name": "stdout",
     "output_type": "stream",
     "text": [
      "Digite um número positivo ou negativo: -1\n",
      "O número que você digitou é negativo\n"
     ]
    }
   ],
   "source": [
    "num = input(\"Digite um número positivo ou negativo: \")\n",
    "\n",
    "if \"-\" in num:\n",
    "    print(\"O número que você digitou é negativo\")\n",
    "else:\n",
    "    print(\"O número que você digitou é positivo\")"
   ]
  },
  {
   "cell_type": "markdown",
   "id": "fe1ca502",
   "metadata": {},
   "source": [
    "## 3 - Faça um Programa que verifique se uma letra digitada é \"F\" ou \"M\". Conforme a letra escrever: F - Feminino, M - Masculino, Sexo Inválido."
   ]
  },
  {
   "cell_type": "code",
   "execution_count": 17,
   "id": "c7542466",
   "metadata": {},
   "outputs": [
    {
     "name": "stdout",
     "output_type": "stream",
     "text": [
      "Digite a letra inicial do seu sexo: m\n",
      "Seu sexo é Masculino\n"
     ]
    }
   ],
   "source": [
    "sexo = input(\"Digite a letra inicial do seu sexo: \").upper()\n",
    "\n",
    "if sexo == \"M\":\n",
    "    print(\"Seu sexo é Masculino\")\n",
    "elif sexo == \"F\":\n",
    "    print(\"Seu sexo é Feminino\")\n",
    "else:\n",
    "    print(\"Sexo inválido\")"
   ]
  },
  {
   "cell_type": "markdown",
   "id": "84bb6814",
   "metadata": {},
   "source": [
    "## 4 - Faça um Programa que verifique se uma letra digitada é vogal ou consoante."
   ]
  },
  {
   "cell_type": "code",
   "execution_count": 34,
   "id": "8a1d179b",
   "metadata": {},
   "outputs": [
    {
     "name": "stdout",
     "output_type": "stream",
     "text": [
      "Digite uma letra: a\n",
      "Essa é a letra vogal: A\n"
     ]
    }
   ],
   "source": [
    "lista_vogal = [\"A\" , \"E\" , \"I\" , \"O\" , \"U\"]\n",
    "\n",
    "lista_numero = [0 , 1 , 2 , 3 , 4 , 5 , 6 , 7 , 8 , 9]\n",
    "\n",
    "letra = input(\"Digite uma letra: \").upper()\n",
    "\n",
    "if letra in lista_vogal:\n",
    "    print(\"Essa é a letra vogal: {}\".format(letra))\n",
    "    \n",
    "else:\n",
    "    print(\"Essa é a letra consoante: {}\".format(letra))"
   ]
  },
  {
   "cell_type": "markdown",
   "id": "5a18fb96",
   "metadata": {},
   "source": [
    "## 5 - Faça um programa para a leitura de duas notas parciais de um aluno. O programa deve calcular a média alcançada por aluno e apresentar:\n",
    "#### A mensagem \"Aprovado\", se a média alcançada for maior ou igual a sete;\n",
    "#### A mensagem \"Reprovado\", se a média for menor do que sete;\n",
    "#### A mensagem \"Aprovado com Distinção\", se a média for igual a dez."
   ]
  },
  {
   "cell_type": "code",
   "execution_count": 39,
   "id": "9b3aa31f",
   "metadata": {},
   "outputs": [
    {
     "name": "stdout",
     "output_type": "stream",
     "text": [
      "Digite a 1° nota: 1.2\n",
      "Digite a 2° nota: 9\n",
      "Reprovado\n"
     ]
    }
   ],
   "source": [
    "nota1 = float(input(\"Digite a 1° nota: \"))\n",
    "nota2 = float(input(\"Digite a 2° nota: \"))\n",
    "media = (nota1 + nota2) / 2\n",
    "\n",
    "if media == 10:\n",
    "    print(\"Aprovado com Distinção\")\n",
    "elif media >= 7:\n",
    "    print(\"Aprovado\")\n",
    "else:\n",
    "    print(\"Reprovado\")"
   ]
  },
  {
   "cell_type": "markdown",
   "id": "47733be3",
   "metadata": {},
   "source": [
    "## 6 - Faça um Programa que leia três números e mostre o maior deles"
   ]
  },
  {
   "cell_type": "code",
   "execution_count": 61,
   "id": "bfea4f47",
   "metadata": {},
   "outputs": [
    {
     "name": "stdout",
     "output_type": "stream",
     "text": [
      "Digite um número: 10\n",
      "Digite outro número: 9\n",
      "Digite mais um número: 10\n",
      "O maior número foi: 10\n"
     ]
    }
   ],
   "source": [
    "num1 = int(input(\"Digite um número: \"))\n",
    "num2 = int(input(\"Digite outro número: \"))\n",
    "num3 = int(input(\"Digite mais um número: \"))\n",
    "\n",
    "if num1 > num2 and num1 > num3:\n",
    "    print(\"O maior número foi: {}\".format(num1))\n",
    "\n",
    "elif num2 > num1 and num2 > num3:\n",
    "    print(\"O mairo número foi: {}\".format(num2))\n",
    "else:\n",
    "    print(\"O maior número foi: {}\".format(num3))"
   ]
  },
  {
   "cell_type": "markdown",
   "id": "ac1610b8",
   "metadata": {},
   "source": [
    "## 7 - Faça um Programa que leia três números e mostre o maior e o menor deles."
   ]
  },
  {
   "cell_type": "code",
   "execution_count": 64,
   "id": "1dfaa961",
   "metadata": {},
   "outputs": [
    {
     "name": "stdout",
     "output_type": "stream",
     "text": [
      "Digite um número: 90\n",
      "Digite outro número: 98\n",
      "Digite mais um número: 100\n",
      "O maior número é: 100\n",
      "O menor número é: 90\n"
     ]
    }
   ],
   "source": [
    "num1 = int(input(\"Digite um número: \"))\n",
    "num2 = int(input(\"Digite outro número: \"))\n",
    "num3 = int(input(\"Digite mais um número: \"))\n",
    "\n",
    "maior = num1\n",
    "menor = num1\n",
    "\n",
    "if maior < num2:\n",
    "    maior = num2\n",
    "\n",
    "if maior < num3:\n",
    "    maior = num3\n",
    "    \n",
    "if menor > num2:\n",
    "    menor = num2\n",
    "\n",
    "if menor > num3:\n",
    "    menor = num3\n",
    "    \n",
    "print(\"O maior número é: {}\".format(maior))\n",
    "print(\"O menor número é: {}\".format(menor))"
   ]
  },
  {
   "cell_type": "markdown",
   "id": "27a7ff05",
   "metadata": {},
   "source": [
    "## 8 - Faça um programa que pergunte o preço de três produtos e informe qual produto você deve comprar, sabendo que a decisão é sempre pelo mais barato."
   ]
  },
  {
   "cell_type": "code",
   "execution_count": 71,
   "id": "e3ef1aac",
   "metadata": {},
   "outputs": [
    {
     "name": "stdout",
     "output_type": "stream",
     "text": [
      "Digite o preço do 1° produto: 10\n",
      "Digite o preço do 2° produto: 14\n",
      "Digite o preço do 3° produto: 5\n",
      "O 3° produto é o mais barato, custando R$5.00\n"
     ]
    }
   ],
   "source": [
    "produto1 = float(input(\"Digite o preço do 1° produto: \"))\n",
    "produto2 = float(input(\"Digite o preço do 2° produto: \"))\n",
    "produto3 = float(input(\"Digite o preço do 3° produto: \"))\n",
    "\n",
    "if produto1 < produto2 and produto1 < produto3:\n",
    "    print(\"O 1° produto é o mais barato, custando R${:.2f}\".format(produto1))\n",
    "\n",
    "elif produto2 < produto1 and produto2 < produto3:\n",
    "    print(\"O 2° produto é o mais barato, custando R${:.2f}\".format(produto2))\n",
    "else:\n",
    "    print(\"O 3° produto é o mais barato, custando R${:.2f}\".format(produto3))"
   ]
  },
  {
   "cell_type": "markdown",
   "id": "96ff931e",
   "metadata": {},
   "source": [
    "## 9 - Faça um Programa que leia três números e mostre-os em ordem decrescente."
   ]
  },
  {
   "cell_type": "code",
   "execution_count": 13,
   "id": "2657bd96",
   "metadata": {},
   "outputs": [
    {
     "name": "stdout",
     "output_type": "stream",
     "text": [
      "Digite um número: 90\n",
      "Digite um número: 87\n",
      "Digite um número: 45\n",
      "90\n",
      "87\n",
      "45\n"
     ]
    }
   ],
   "source": [
    "ordem = []\n",
    "\n",
    "for i in range(3):\n",
    "    i = input(\"Digite um número: \")\n",
    "    ordem.append(i)\n",
    "\n",
    "ordem.sort(reverse = True)\n",
    "print(\"\\n\".join(ordem))"
   ]
  },
  {
   "cell_type": "markdown",
   "id": "e4c986cb",
   "metadata": {},
   "source": [
    "## 10 - Faça um Programa que pergunte em que turno você estuda. Peça para digitar M-matutino ou V-Vespertino ou N- Noturno. Imprima a mensagem \"Bom Dia!\", \"Boa Tarde!\" ou \"Boa Noite!\" ou \"Valor Inválido!\", conforme o caso."
   ]
  },
  {
   "cell_type": "code",
   "execution_count": 21,
   "id": "2fe5ae73",
   "metadata": {},
   "outputs": [
    {
     "name": "stdout",
     "output_type": "stream",
     "text": [
      "Olá em qual turno você estuda? \n",
      "Digite (M) para matutino \n",
      "Digite (V) para vespertine \n",
      "Digite (N) para noturno\n",
      "h\n",
      "Valor inválido\n"
     ]
    }
   ],
   "source": [
    "print(\"Olá em qual turno você estuda? \\nDigite (M) para matutino \\nDigite (V) para vespertine \\nDigite (N) para noturno\")\n",
    "\n",
    "turno = input().upper()\n",
    "\n",
    "if turno == \"M\":\n",
    "    print(\"Bom dia!\")\n",
    "\n",
    "elif turno == \"V\":\n",
    "    print(\"Boa tarde!\")\n",
    "    \n",
    "elif turno == \"N\":\n",
    "    print(\"Boa noite!\")\n",
    "\n",
    "else:\n",
    "    print(\"Valor inválido\")"
   ]
  },
  {
   "cell_type": "markdown",
   "id": "aa48b2d6",
   "metadata": {},
   "source": [
    "## 11 - As Organizações Tabajara resolveram dar um aumento de salário aos seus colaboradores e lhe contraram para desenvolver o programa que calculará os reajustes.\n",
    "#### Faça um programa que recebe o salário de um colaborador e o reajuste segundo o seguinte critério, baseado no salário atual:\n",
    "#### salários até  280,00 reais (incluindo) : aumento de 20%\n",
    "#### salários entre  280,00 e  700,00 reais : aumento de 15%\n",
    "#### salários entre 700,00 e 1500,00 reais : aumento de 10%\n",
    "#### salários de 1500,00 reais em diante : aumento de 5% Após o aumento ser realizado, informe na tela:\n",
    "##### o salário antes do reajuste;\n",
    "##### o percentual de aumento aplicado;\n",
    "##### o valor do aumento;\n",
    "##### o novo salário, após o aumento."
   ]
  },
  {
   "cell_type": "code",
   "execution_count": 42,
   "id": "5ba78e94",
   "metadata": {},
   "outputs": [
    {
     "name": "stdout",
     "output_type": "stream",
     "text": [
      "Digite o salário: 700\n",
      "Seu salário inicial era no valor de: R$700,00\n",
      "Houve um aumento de 15% do seu salario, no valor de: R$105,00\n",
      "Seu salário atual é no valor de: R$805,00\n"
     ]
    }
   ],
   "source": [
    "salario = float(input(\"Digite o salário: \"))\n",
    "\n",
    "if salario <= 280:\n",
    "    aumento = salario * 0.2\n",
    "    novo_salario = salario + aumento\n",
    "    print(\"Seu salário inicial era no valor de: R${:.2f}\\nHouve um aumento de 20% do seu salario, no valor de: R${:.2f}\\nSeu salário atual é no valor de: R${:.2f}\".format(salario , aumento , novo_salario).replace(\".\" , \",\"))\n",
    "if salario > 280 and salario <= 700:\n",
    "    aumento = salario * 0.15\n",
    "    novo_salario = salario + aumento\n",
    "    print(\"Seu salário inicial era no valor de: R${:.2f}\\nHouve um aumento de 15% do seu salario, no valor de: R${:.2f}\\nSeu salário atual é no valor de: R${:.2f}\".format(salario , aumento , novo_salario).replace(\".\" , \",\"))\n",
    "elif salario > 700 and salario <= 1500:\n",
    "    aumento = salario * 0.1\n",
    "    novo_salario = salario + aumento\n",
    "    print(\"Seu salário inicial era no valor de: R${:.2f}\\nHouve um aumento de 10% do seu salario, no valor de: R${:.2f}\\nSeu salário atual é no valor de: R${:.2f}\".format(salario , aumento , novo_salario).replace(\".\" , \",\"))\n",
    "elif salario > 1500:\n",
    "    aumento = salario * 0.05\n",
    "    novo_salario = salario + aumento\n",
    "    print(\"Seu salário inicial era no valor de: R${:.2f}\\nHouve um aumento de 5% do seu salario, no valor de: R${:.2f}\\nSeu salário atual é no valor de: R${:.2f}\".format(salario , aumento , novo_salario).replace(\".\" , \",\"))"
   ]
  },
  {
   "cell_type": "markdown",
   "id": "52597e75",
   "metadata": {},
   "source": [
    "## 12 - Faça um programa para o cálculo de uma folha de pagamento, sabendo que os descontos são do Imposto de Renda, que depende do salário bruto (conforme tabela abaixo) e 3% para o Sindicato e que o FGTS corresponde a 11% do Salário Bruto, mas não é descontado (é a empresa que deposita). O Salário Líquido corresponde ao Salário Bruto menos os descontos. O programa deverá pedir ao usuário o valor da sua hora e a quantidade de horas trabalhadas no mês.\n",
    "##### Desconto do IR:\n",
    "##### Salário Bruto até 900 (inclusive) - isento\n",
    "##### Salário Bruto até 1500 (inclusive) - desconto de 5%\n",
    "##### Salário Bruto até 2500 (inclusive) - desconto de 10%\n",
    "##### Salário Bruto acima de 2500 - desconto de 20% "
   ]
  },
  {
   "cell_type": "code",
   "execution_count": 59,
   "id": "6088c9df",
   "metadata": {},
   "outputs": [
    {
     "name": "stdout",
     "output_type": "stream",
     "text": [
      "Digite quanto ganha por hora: 33\n",
      "Digite quantas horas ao mês você trabalha: 216\n",
      "Seu salário bruto é no valor de: R$7128,00\n",
      "você paga R$140,00 de imposto de renda\n",
      "pro sindicato R$21,00\n",
      "Seu FGTS por mês é de: R$77,0\n",
      "Seu salário liquído é: R$6967,00\n"
     ]
    }
   ],
   "source": [
    "valor_hora = float(input(\"Digite quanto ganha por hora: \"))\n",
    "hora_mes = float(input(\"Digite quantas horas ao mês você trabalha: \"))\n",
    "salario_bruto = valor_hora * hora_mes\n",
    "\n",
    "if salario_bruto <= 900:\n",
    "    ir = salario * 0\n",
    "    s = salario * 0.03\n",
    "    fgts = salario * 0.11\n",
    "    salario_liquido = salario_bruto - ir - s \n",
    "    print(\"Seu salário bruto é no valor de: R${:.2f}\\nvocê paga R${:.2f} de imposto de renda\\npro sindicato R${:.2f}\\nSeu FGTS por mês é de: R${}\\nSeu salário liquído é: R${:.2f}\".format(salario_bruto , ir , s ,fgts , salario_liquido).replace(\".\" , \",\"))\n",
    "    \n",
    "if salario_bruto <= 1500:\n",
    "    ir = salario * 0.05\n",
    "    s = salario * 0.03\n",
    "    fgts = salario * 0.11\n",
    "    salario_liquido = salario_bruto - ir - s \n",
    "    print(\"Seu salário bruto é no valor de: R${:.2f}\\nvocê paga R${:.2f} de imposto de renda\\npro sindicato R${:.2f}\\nSeu FGTS por mês é de: R${}\\nSeu salário liquído é: R${:.2f}\".format(salario_bruto , ir , s ,fgts , salario_liquido).replace(\".\" , \",\"))\n",
    "\n",
    "if salario_bruto <= 2500:\n",
    "    ir = salario * 0.1\n",
    "    s = salario * 0.03\n",
    "    fgts = salario * 0.11\n",
    "    salario_liquido = salario_bruto - ir - s \n",
    "    print(\"Seu salário bruto é no valor de: R${:.2f}\\nvocê paga R${:.2f} de imposto de renda\\npro sindicato R${:.2f}\\nSeu FGTS por mês é de: R${}\\nSeu salário liquído é: R${:.2f}\".format(salario_bruto , ir , s ,fgts , salario_liquido).replace(\".\" , \",\"))\n",
    "\n",
    "if salario_bruto > 2500:\n",
    "    ir = salario * 0.2\n",
    "    s = salario * 0.03\n",
    "    fgts = salario * 0.11\n",
    "    salario_liquido = salario_bruto - ir - s \n",
    "    print(\"Seu salário bruto é no valor de: R${:.2f}\\nvocê paga R${:.2f} de imposto de renda\\npro sindicato R${:.2f}\\nSeu FGTS por mês é de: R${}\\nSeu salário liquído é: R${:.2f}\".format(salario_bruto , ir , s ,fgts , salario_liquido).replace(\".\" , \",\"))\n"
   ]
  },
  {
   "cell_type": "markdown",
   "id": "97057346",
   "metadata": {},
   "source": [
    "## 13 - Faça um programa que calcule as raízes de uma equação do segundo grau, na forma ax2 + bx + c. O programa deverá pedir os valores de a, b e c e fazer as consistências, informando ao usuário nas seguintes situações:\n",
    "##### Se o usuário informar o valor de A igual a zero, a equação não é do segundo grau e o programa não deve fazer pedir os demais valores, sendo encerrado;\n",
    "##### Se o delta calculado for negativo, a equação não possui raizes reais. Informe ao usuário e encerre o programa;\n",
    "##### Se o delta calculado for igual a zero a equação possui apenas uma raiz real; informe-a ao usuário;\n",
    "##### Se o delta for positivo, a equação possui duas raiz reais; informe-as ao usuário;"
   ]
  },
  {
   "cell_type": "code",
   "execution_count": 5,
   "id": "a582f3b5",
   "metadata": {},
   "outputs": [
    {
     "name": "stdout",
     "output_type": "stream",
     "text": [
      "Digite o valor de A: 1\n",
      "Digite o valor de B: -10\n",
      "Digite o valor de C: 25\n",
      "5.0\n"
     ]
    }
   ],
   "source": [
    "a = int(input(\"Digite o valor de A: \"))\n",
    "\n",
    "if a != 0:\n",
    "    \n",
    "    b = int(input(\"Digite o valor de B: \"))\n",
    "    c= int(input(\"Digite o valor de C: \"))\n",
    "    \n",
    "    delta = (b * b) - 4 * a * c\n",
    "    delta = str(delta)\n",
    "    \n",
    "    if \"-\" not in delta:\n",
    "        delta = int(delta)\n",
    "        \n",
    "        if delta == 0:\n",
    "            x = -b / (2 * a)\n",
    "            print(x)\n",
    "        \n",
    "        else:\n",
    "            delta_raiz = delta** 0.5\n",
    "            \n",
    "            x1 = (-b + delta_raiz) / (a * 2) \n",
    "            print(x1)\n",
    "            \n",
    "            x2 = (-b - delta_raiz) / (2 * a)\n",
    "            print(x2)\n",
    "    \n",
    "    else:\n",
    "        print(\"Seu delta é negativo, então logo não possui raizes reais\")\n",
    "    \n",
    "else:\n",
    "    print(\"Está não é uma equação de 2° grau\")"
   ]
  }
 ],
 "metadata": {
  "kernelspec": {
   "display_name": "Python 3",
   "language": "python",
   "name": "python3"
  },
  "language_info": {
   "codemirror_mode": {
    "name": "ipython",
    "version": 3
   },
   "file_extension": ".py",
   "mimetype": "text/x-python",
   "name": "python",
   "nbconvert_exporter": "python",
   "pygments_lexer": "ipython3",
   "version": "3.8.8"
  }
 },
 "nbformat": 4,
 "nbformat_minor": 5
}
